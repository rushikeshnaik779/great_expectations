{
 "cells": [
  {
   "cell_type": "code",
   "execution_count": 1,
   "id": "7b0c0530",
   "metadata": {},
   "outputs": [],
   "source": [
    "import great_expectations as gx\n",
    "\n",
    "# Set up\n",
    "context = gx.get_context()\n",
    "\n"
   ]
  },
  {
   "cell_type": "code",
   "execution_count": 2,
   "id": "22d147d4",
   "metadata": {},
   "outputs": [],
   "source": [
    "# Connect to data\n",
    "validator = context.sources.pandas_default.read_csv(\n",
    "    \"iris.csv\"\n",
    ")\n",
    "expected_columns = [\"sepal.length\",\n",
    "          \"sepal.width\",\n",
    "          \"petal.length\",\n",
    "          \"petal.width\",\n",
    "          \"variety\"]\n",
    "\n"
   ]
  },
  {
   "cell_type": "code",
   "execution_count": 3,
   "id": "55a83bf2",
   "metadata": {},
   "outputs": [
    {
     "data": {
      "application/vnd.jupyter.widget-view+json": {
       "model_id": "",
       "version_major": 2,
       "version_minor": 0
      },
      "text/plain": [
       "Calculating Metrics:   0%|          | 0/2 [00:00<?, ?it/s]"
      ]
     },
     "metadata": {},
     "output_type": "display_data"
    },
    {
     "data": {
      "application/vnd.jupyter.widget-view+json": {
       "model_id": "",
       "version_major": 2,
       "version_minor": 0
      },
      "text/plain": [
       "Calculating Metrics:   0%|          | 0/8 [00:00<?, ?it/s]"
      ]
     },
     "metadata": {},
     "output_type": "display_data"
    },
    {
     "data": {
      "application/vnd.jupyter.widget-view+json": {
       "model_id": "",
       "version_major": 2,
       "version_minor": 0
      },
      "text/plain": [
       "Calculating Metrics:   0%|          | 0/6 [00:00<?, ?it/s]"
      ]
     },
     "metadata": {},
     "output_type": "display_data"
    },
    {
     "data": {
      "application/vnd.jupyter.widget-view+json": {
       "model_id": "",
       "version_major": 2,
       "version_minor": 0
      },
      "text/plain": [
       "Calculating Metrics:   0%|          | 0/6 [00:00<?, ?it/s]"
      ]
     },
     "metadata": {},
     "output_type": "display_data"
    },
    {
     "data": {
      "application/vnd.jupyter.widget-view+json": {
       "model_id": "",
       "version_major": 2,
       "version_minor": 0
      },
      "text/plain": [
       "Calculating Metrics:   0%|          | 0/6 [00:00<?, ?it/s]"
      ]
     },
     "metadata": {},
     "output_type": "display_data"
    },
    {
     "data": {
      "application/vnd.jupyter.widget-view+json": {
       "model_id": "",
       "version_major": 2,
       "version_minor": 0
      },
      "text/plain": [
       "Calculating Metrics:   0%|          | 0/6 [00:00<?, ?it/s]"
      ]
     },
     "metadata": {},
     "output_type": "display_data"
    },
    {
     "data": {
      "application/vnd.jupyter.widget-view+json": {
       "model_id": "",
       "version_major": 2,
       "version_minor": 0
      },
      "text/plain": [
       "Calculating Metrics:   0%|          | 0/6 [00:00<?, ?it/s]"
      ]
     },
     "metadata": {},
     "output_type": "display_data"
    }
   ],
   "source": [
    "# Create Expectations\n",
    "validator.expect_table_columns_to_match_ordered_list(expected_columns)\n",
    "validator.expect_column_values_to_be_in_set(column = 'variety', \n",
    "                                           value_set = [\"Setosa\",\"Versicolor\",\"Virginica\"])\n",
    "for i in expected_columns: \n",
    "    validator.expect_column_values_to_not_be_null(i)\n",
    "\n",
    "\n"
   ]
  },
  {
   "cell_type": "code",
   "execution_count": 4,
   "id": "94528e5d",
   "metadata": {},
   "outputs": [],
   "source": [
    "# Validate data\n",
    "checkpoint = gx.checkpoint.SimpleCheckpoint( \n",
    "    name=\"iris_checkpoint\",\n",
    "    data_context=context,\n",
    "    validator=validator,\n",
    ")"
   ]
  },
  {
   "cell_type": "code",
   "execution_count": 5,
   "id": "96545990",
   "metadata": {},
   "outputs": [
    {
     "data": {
      "application/vnd.jupyter.widget-view+json": {
       "model_id": "",
       "version_major": 2,
       "version_minor": 0
      },
      "text/plain": [
       "Calculating Metrics:   0%|          | 0/33 [00:00<?, ?it/s]"
      ]
     },
     "metadata": {},
     "output_type": "display_data"
    }
   ],
   "source": [
    "checkpoint_result = checkpoint.run()\n",
    "\n",
    "\n"
   ]
  },
  {
   "cell_type": "code",
   "execution_count": 6,
   "id": "ccde169e",
   "metadata": {},
   "outputs": [],
   "source": [
    "# View results\n",
    "validation_result_identifier = checkpoint_result.list_validation_result_identifiers()[0]\n",
    "context.open_data_docs(resource_identifier=validation_result_identifier)"
   ]
  },
  {
   "cell_type": "code",
   "execution_count": 7,
   "id": "4beed46d",
   "metadata": {},
   "outputs": [
    {
     "name": "stdout",
     "output_type": "stream",
     "text": [
      "ValidationResultIdentifier::default/__none__/20230406T025522.961463Z/default_pandas_datasource-#ephemeral_pandas_asset\n"
     ]
    }
   ],
   "source": [
    "print(validation_result_identifier)"
   ]
  },
  {
   "cell_type": "code",
   "execution_count": 8,
   "id": "4a69d4a9",
   "metadata": {
    "scrolled": false
   },
   "outputs": [
    {
     "data": {
      "text/plain": [
       "{\n",
       "  \"run_id\": {\n",
       "    \"run_time\": \"2023-04-06T08:25:22.961463+05:30\",\n",
       "    \"run_name\": null\n",
       "  },\n",
       "  \"run_results\": {\n",
       "    \"ValidationResultIdentifier::default/__none__/20230406T025522.961463Z/default_pandas_datasource-#ephemeral_pandas_asset\": {\n",
       "      \"validation_result\": {\n",
       "        \"results\": [\n",
       "          {\n",
       "            \"meta\": {},\n",
       "            \"exception_info\": {\n",
       "              \"raised_exception\": false,\n",
       "              \"exception_traceback\": null,\n",
       "              \"exception_message\": null\n",
       "            },\n",
       "            \"result\": {\n",
       "              \"observed_value\": [\n",
       "                \"sepal.length\",\n",
       "                \"sepal.width\",\n",
       "                \"petal.length\",\n",
       "                \"petal.width\",\n",
       "                \"variety\"\n",
       "              ]\n",
       "            },\n",
       "            \"expectation_config\": {\n",
       "              \"kwargs\": {\n",
       "                \"column_list\": [\n",
       "                  \"sepal.length\",\n",
       "                  \"sepal.width\",\n",
       "                  \"petal.length\",\n",
       "                  \"petal.width\",\n",
       "                  \"variety\"\n",
       "                ],\n",
       "                \"batch_id\": \"default_pandas_datasource-#ephemeral_pandas_asset\"\n",
       "              },\n",
       "              \"meta\": {},\n",
       "              \"expectation_type\": \"expect_table_columns_to_match_ordered_list\"\n",
       "            },\n",
       "            \"success\": true\n",
       "          },\n",
       "          {\n",
       "            \"meta\": {},\n",
       "            \"exception_info\": {\n",
       "              \"raised_exception\": false,\n",
       "              \"exception_traceback\": null,\n",
       "              \"exception_message\": null\n",
       "            },\n",
       "            \"result\": {\n",
       "              \"element_count\": 150,\n",
       "              \"unexpected_count\": 0,\n",
       "              \"unexpected_percent\": 0.0,\n",
       "              \"partial_unexpected_list\": [],\n",
       "              \"missing_count\": 0,\n",
       "              \"missing_percent\": 0.0,\n",
       "              \"unexpected_percent_total\": 0.0,\n",
       "              \"unexpected_percent_nonmissing\": 0.0,\n",
       "              \"partial_unexpected_index_list\": [],\n",
       "              \"partial_unexpected_counts\": []\n",
       "            },\n",
       "            \"expectation_config\": {\n",
       "              \"kwargs\": {\n",
       "                \"column\": \"variety\",\n",
       "                \"value_set\": [\n",
       "                  \"Setosa\",\n",
       "                  \"Versicolor\",\n",
       "                  \"Virginica\"\n",
       "                ],\n",
       "                \"batch_id\": \"default_pandas_datasource-#ephemeral_pandas_asset\"\n",
       "              },\n",
       "              \"meta\": {},\n",
       "              \"expectation_type\": \"expect_column_values_to_be_in_set\"\n",
       "            },\n",
       "            \"success\": true\n",
       "          },\n",
       "          {\n",
       "            \"meta\": {},\n",
       "            \"exception_info\": {\n",
       "              \"raised_exception\": false,\n",
       "              \"exception_traceback\": null,\n",
       "              \"exception_message\": null\n",
       "            },\n",
       "            \"result\": {\n",
       "              \"element_count\": 150,\n",
       "              \"unexpected_count\": 0,\n",
       "              \"unexpected_percent\": 0.0,\n",
       "              \"partial_unexpected_list\": [],\n",
       "              \"partial_unexpected_index_list\": [],\n",
       "              \"partial_unexpected_counts\": []\n",
       "            },\n",
       "            \"expectation_config\": {\n",
       "              \"kwargs\": {\n",
       "                \"column\": \"variety\",\n",
       "                \"batch_id\": \"default_pandas_datasource-#ephemeral_pandas_asset\"\n",
       "              },\n",
       "              \"meta\": {},\n",
       "              \"expectation_type\": \"expect_column_values_to_not_be_null\"\n",
       "            },\n",
       "            \"success\": true\n",
       "          },\n",
       "          {\n",
       "            \"meta\": {},\n",
       "            \"exception_info\": {\n",
       "              \"raised_exception\": false,\n",
       "              \"exception_traceback\": null,\n",
       "              \"exception_message\": null\n",
       "            },\n",
       "            \"result\": {\n",
       "              \"element_count\": 150,\n",
       "              \"unexpected_count\": 0,\n",
       "              \"unexpected_percent\": 0.0,\n",
       "              \"partial_unexpected_list\": [],\n",
       "              \"partial_unexpected_index_list\": [],\n",
       "              \"partial_unexpected_counts\": []\n",
       "            },\n",
       "            \"expectation_config\": {\n",
       "              \"kwargs\": {\n",
       "                \"column\": \"sepal.length\",\n",
       "                \"batch_id\": \"default_pandas_datasource-#ephemeral_pandas_asset\"\n",
       "              },\n",
       "              \"meta\": {},\n",
       "              \"expectation_type\": \"expect_column_values_to_not_be_null\"\n",
       "            },\n",
       "            \"success\": true\n",
       "          },\n",
       "          {\n",
       "            \"meta\": {},\n",
       "            \"exception_info\": {\n",
       "              \"raised_exception\": false,\n",
       "              \"exception_traceback\": null,\n",
       "              \"exception_message\": null\n",
       "            },\n",
       "            \"result\": {\n",
       "              \"element_count\": 150,\n",
       "              \"unexpected_count\": 0,\n",
       "              \"unexpected_percent\": 0.0,\n",
       "              \"partial_unexpected_list\": [],\n",
       "              \"partial_unexpected_index_list\": [],\n",
       "              \"partial_unexpected_counts\": []\n",
       "            },\n",
       "            \"expectation_config\": {\n",
       "              \"kwargs\": {\n",
       "                \"column\": \"sepal.width\",\n",
       "                \"batch_id\": \"default_pandas_datasource-#ephemeral_pandas_asset\"\n",
       "              },\n",
       "              \"meta\": {},\n",
       "              \"expectation_type\": \"expect_column_values_to_not_be_null\"\n",
       "            },\n",
       "            \"success\": true\n",
       "          },\n",
       "          {\n",
       "            \"meta\": {},\n",
       "            \"exception_info\": {\n",
       "              \"raised_exception\": false,\n",
       "              \"exception_traceback\": null,\n",
       "              \"exception_message\": null\n",
       "            },\n",
       "            \"result\": {\n",
       "              \"element_count\": 150,\n",
       "              \"unexpected_count\": 0,\n",
       "              \"unexpected_percent\": 0.0,\n",
       "              \"partial_unexpected_list\": [],\n",
       "              \"partial_unexpected_index_list\": [],\n",
       "              \"partial_unexpected_counts\": []\n",
       "            },\n",
       "            \"expectation_config\": {\n",
       "              \"kwargs\": {\n",
       "                \"column\": \"petal.length\",\n",
       "                \"batch_id\": \"default_pandas_datasource-#ephemeral_pandas_asset\"\n",
       "              },\n",
       "              \"meta\": {},\n",
       "              \"expectation_type\": \"expect_column_values_to_not_be_null\"\n",
       "            },\n",
       "            \"success\": true\n",
       "          },\n",
       "          {\n",
       "            \"meta\": {},\n",
       "            \"exception_info\": {\n",
       "              \"raised_exception\": false,\n",
       "              \"exception_traceback\": null,\n",
       "              \"exception_message\": null\n",
       "            },\n",
       "            \"result\": {\n",
       "              \"element_count\": 150,\n",
       "              \"unexpected_count\": 0,\n",
       "              \"unexpected_percent\": 0.0,\n",
       "              \"partial_unexpected_list\": [],\n",
       "              \"partial_unexpected_index_list\": [],\n",
       "              \"partial_unexpected_counts\": []\n",
       "            },\n",
       "            \"expectation_config\": {\n",
       "              \"kwargs\": {\n",
       "                \"column\": \"petal.width\",\n",
       "                \"batch_id\": \"default_pandas_datasource-#ephemeral_pandas_asset\"\n",
       "              },\n",
       "              \"meta\": {},\n",
       "              \"expectation_type\": \"expect_column_values_to_not_be_null\"\n",
       "            },\n",
       "            \"success\": true\n",
       "          }\n",
       "        ],\n",
       "        \"meta\": {\n",
       "          \"great_expectations_version\": \"0.16.5\",\n",
       "          \"expectation_suite_name\": \"default\",\n",
       "          \"run_id\": {\n",
       "            \"run_time\": \"2023-04-06T08:25:22.961463+05:30\",\n",
       "            \"run_name\": null\n",
       "          },\n",
       "          \"batch_spec\": {\n",
       "            \"reader_method\": \"read_csv\",\n",
       "            \"reader_options\": {\n",
       "              \"filepath_or_buffer\": \"iris.csv\"\n",
       "            }\n",
       "          },\n",
       "          \"batch_markers\": {\n",
       "            \"ge_load_time\": \"20230406T025522.243226Z\",\n",
       "            \"pandas_data_fingerprint\": \"95295a6cd6da2cdf22e7c74b646cfe2d\"\n",
       "          },\n",
       "          \"active_batch_definition\": {\n",
       "            \"datasource_name\": \"default_pandas_datasource\",\n",
       "            \"data_connector_name\": \"fluent\",\n",
       "            \"data_asset_name\": \"#ephemeral_pandas_asset\",\n",
       "            \"batch_identifiers\": {}\n",
       "          },\n",
       "          \"validation_time\": \"20230406T025522.972988Z\",\n",
       "          \"checkpoint_name\": \"iris_checkpoint\",\n",
       "          \"validation_id\": null,\n",
       "          \"checkpoint_id\": null\n",
       "        },\n",
       "        \"success\": true,\n",
       "        \"statistics\": {\n",
       "          \"evaluated_expectations\": 7,\n",
       "          \"successful_expectations\": 7,\n",
       "          \"unsuccessful_expectations\": 0,\n",
       "          \"success_percent\": 100.0\n",
       "        },\n",
       "        \"evaluation_parameters\": {}\n",
       "      },\n",
       "      \"actions_results\": {\n",
       "        \"store_validation_result\": {\n",
       "          \"class\": \"StoreValidationResultAction\"\n",
       "        },\n",
       "        \"store_evaluation_params\": {\n",
       "          \"class\": \"StoreEvaluationParametersAction\"\n",
       "        },\n",
       "        \"update_data_docs\": {\n",
       "          \"local_site\": \"file:///var/folders/sh/sd6wstr15pq91_r75y7h_kpw0000gn/T/tmpuavcuzaf/validations/default/__none__/20230406T025522.961463Z/default_pandas_datasource-%23ephemeral_pandas_asset.html\",\n",
       "          \"class\": \"UpdateDataDocsAction\"\n",
       "        }\n",
       "      }\n",
       "    }\n",
       "  },\n",
       "  \"checkpoint_config\": {\n",
       "    \"ge_cloud_id\": null,\n",
       "    \"action_list\": [\n",
       "      {\n",
       "        \"name\": \"store_validation_result\",\n",
       "        \"action\": {\n",
       "          \"class_name\": \"StoreValidationResultAction\"\n",
       "        }\n",
       "      },\n",
       "      {\n",
       "        \"name\": \"store_evaluation_params\",\n",
       "        \"action\": {\n",
       "          \"class_name\": \"StoreEvaluationParametersAction\"\n",
       "        }\n",
       "      },\n",
       "      {\n",
       "        \"name\": \"update_data_docs\",\n",
       "        \"action\": {\n",
       "          \"class_name\": \"UpdateDataDocsAction\",\n",
       "          \"site_names\": []\n",
       "        }\n",
       "      }\n",
       "    ],\n",
       "    \"name\": \"iris_checkpoint\",\n",
       "    \"runtime_configuration\": {},\n",
       "    \"site_names\": null,\n",
       "    \"evaluation_parameters\": {},\n",
       "    \"validations\": [],\n",
       "    \"notify_with\": null,\n",
       "    \"module_name\": \"great_expectations.checkpoint\",\n",
       "    \"expectation_suite_name\": \"default\",\n",
       "    \"default_validation_id\": null,\n",
       "    \"class_name\": \"Checkpoint\",\n",
       "    \"config_version\": 1.0,\n",
       "    \"notify_on\": null,\n",
       "    \"batch_request\": {},\n",
       "    \"expectation_suite_ge_cloud_id\": null,\n",
       "    \"profilers\": [],\n",
       "    \"slack_webhook\": null,\n",
       "    \"run_name_template\": null,\n",
       "    \"template_name\": null\n",
       "  },\n",
       "  \"success\": true\n",
       "}"
      ]
     },
     "execution_count": 8,
     "metadata": {},
     "output_type": "execute_result"
    }
   ],
   "source": [
    "checkpoint_result"
   ]
  },
  {
   "cell_type": "code",
   "execution_count": null,
   "id": "5c78cb0c",
   "metadata": {},
   "outputs": [],
   "source": []
  }
 ],
 "metadata": {
  "kernelspec": {
   "display_name": "Python 3 (ipykernel)",
   "language": "python",
   "name": "python3"
  },
  "language_info": {
   "codemirror_mode": {
    "name": "ipython",
    "version": 3
   },
   "file_extension": ".py",
   "mimetype": "text/x-python",
   "name": "python",
   "nbconvert_exporter": "python",
   "pygments_lexer": "ipython3",
   "version": "3.11.2"
  }
 },
 "nbformat": 4,
 "nbformat_minor": 5
}
