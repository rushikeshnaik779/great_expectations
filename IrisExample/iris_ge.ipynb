{
 "cells": [
  {
   "cell_type": "code",
   "execution_count": 1,
   "id": "7b0c0530",
   "metadata": {},
   "outputs": [],
   "source": [
    "import great_expectations as gx\n",
    "\n",
    "# Set up\n",
    "context = gx.get_context()\n",
    "\n"
   ]
  },
  {
   "cell_type": "code",
   "execution_count": 2,
   "id": "22d147d4",
   "metadata": {},
   "outputs": [],
   "source": [
    "# Connect to data\n",
    "validator = context.sources.pandas_default.read_csv(\n",
    "    \"iris.csv\"\n",
    ")\n",
    "expected_columns = [\"sepal.length\",\n",
    "          \"sepal.width\",\n",
    "          \"petal.length\",\n",
    "          \"petal.width\",\n",
    "          \"variety\"]\n",
    "\n"
   ]
  },
  {
   "cell_type": "code",
   "execution_count": 7,
   "id": "55a83bf2",
   "metadata": {},
   "outputs": [
    {
     "data": {
      "application/vnd.jupyter.widget-view+json": {
       "model_id": "d3f572f302d04ca18a0aec2c1f36d9ab",
       "version_major": 2,
       "version_minor": 0
      },
      "text/plain": [
       "Calculating Metrics:   0%|          | 0/2 [00:00<?, ?it/s]"
      ]
     },
     "metadata": {},
     "output_type": "display_data"
    },
    {
     "data": {
      "application/vnd.jupyter.widget-view+json": {
       "model_id": "3a31b90409c6469691db50494d244f20",
       "version_major": 2,
       "version_minor": 0
      },
      "text/plain": [
       "Calculating Metrics:   0%|          | 0/8 [00:00<?, ?it/s]"
      ]
     },
     "metadata": {},
     "output_type": "display_data"
    },
    {
     "data": {
      "application/vnd.jupyter.widget-view+json": {
       "model_id": "4656d2eb683b4aa2a28c35d56b3cec98",
       "version_major": 2,
       "version_minor": 0
      },
      "text/plain": [
       "Calculating Metrics:   0%|          | 0/6 [00:00<?, ?it/s]"
      ]
     },
     "metadata": {},
     "output_type": "display_data"
    },
    {
     "data": {
      "application/vnd.jupyter.widget-view+json": {
       "model_id": "56fc30ec6e5e4f1ba4e0a4feb7355b48",
       "version_major": 2,
       "version_minor": 0
      },
      "text/plain": [
       "Calculating Metrics:   0%|          | 0/6 [00:00<?, ?it/s]"
      ]
     },
     "metadata": {},
     "output_type": "display_data"
    },
    {
     "data": {
      "application/vnd.jupyter.widget-view+json": {
       "model_id": "30ac5675b19f40e3bd5a3d8749e5ab8e",
       "version_major": 2,
       "version_minor": 0
      },
      "text/plain": [
       "Calculating Metrics:   0%|          | 0/6 [00:00<?, ?it/s]"
      ]
     },
     "metadata": {},
     "output_type": "display_data"
    },
    {
     "data": {
      "application/vnd.jupyter.widget-view+json": {
       "model_id": "c865e6b942854ce58c1755ed7d8af296",
       "version_major": 2,
       "version_minor": 0
      },
      "text/plain": [
       "Calculating Metrics:   0%|          | 0/6 [00:00<?, ?it/s]"
      ]
     },
     "metadata": {},
     "output_type": "display_data"
    },
    {
     "data": {
      "application/vnd.jupyter.widget-view+json": {
       "model_id": "b99d6825946d4fec9a680c098f07ef1c",
       "version_major": 2,
       "version_minor": 0
      },
      "text/plain": [
       "Calculating Metrics:   0%|          | 0/6 [00:00<?, ?it/s]"
      ]
     },
     "metadata": {},
     "output_type": "display_data"
    }
   ],
   "source": [
    "# Create Expectations\n",
    "validator.expect_table_columns_to_match_ordered_list(expected_columns)\n",
    "validator.expect_column_values_to_be_in_set(column = 'variety', \n",
    "                                           value_set = [\"Setosa\",\"Versicolor\",\"Virginica\"])\n",
    "for i in expected_columns: \n",
    "    validator.expect_column_values_to_not_be_null(i)\n",
    "\n",
    "\n"
   ]
  },
  {
   "cell_type": "code",
   "execution_count": 8,
   "id": "94528e5d",
   "metadata": {},
   "outputs": [],
   "source": [
    "# Validate data\n",
    "checkpoint = gx.checkpoint.SimpleCheckpoint( \n",
    "    name=\"iris_checkpoint\",\n",
    "    data_context=context,\n",
    "    validator=validator,\n",
    ")"
   ]
  },
  {
   "cell_type": "code",
   "execution_count": 9,
   "id": "96545990",
   "metadata": {},
   "outputs": [
    {
     "data": {
      "application/vnd.jupyter.widget-view+json": {
       "model_id": "c460e48a4c9b440b987075c3581f344c",
       "version_major": 2,
       "version_minor": 0
      },
      "text/plain": [
       "Calculating Metrics:   0%|          | 0/38 [00:00<?, ?it/s]"
      ]
     },
     "metadata": {},
     "output_type": "display_data"
    },
    {
     "name": "stderr",
     "output_type": "stream",
     "text": [
      "An unexpected Exception occurred during data docs rendering.  Because of this error, certain parts of data docs will not be rendered properly and/or may not appear altogether.  Please use the trace, included in this message, to diagnose and repair the underlying issue.  Detailed information follows:\n",
      "                TypeError: \"unhashable type: 'list'\".  Traceback: \"Traceback (most recent call last):\n",
      "  File \"/Library/Frameworks/Python.framework/Versions/3.11/lib/python3.11/site-packages/great_expectations/render/renderer/site_builder.py\", line 474, in build\n",
      "    rendered_content = self.renderer_class.render(resource)\n",
      "                       ^^^^^^^^^^^^^^^^^^^^^^^^^^^^^^^^^^^^\n",
      "  File \"/Library/Frameworks/Python.framework/Versions/3.11/lib/python3.11/site-packages/great_expectations/render/renderer/page_renderer.py\", line 109, in render\n",
      "    columns = self._group_evrs_by_column(validation_results, expectation_suite_name)\n",
      "              ^^^^^^^^^^^^^^^^^^^^^^^^^^^^^^^^^^^^^^^^^^^^^^^^^^^^^^^^^^^^^^^^^^^^^^\n",
      "  File \"/Library/Frameworks/Python.framework/Versions/3.11/lib/python3.11/site-packages/great_expectations/render/renderer/page_renderer.py\", line 202, in _group_evrs_by_column\n",
      "    columns[column].append(evr)\n",
      "    ~~~~~~~^^^^^^^^\n",
      "TypeError: unhashable type: 'list'\n",
      "\".\n"
     ]
    }
   ],
   "source": [
    "checkpoint_result = checkpoint.run()\n",
    "\n",
    "# View results\n",
    "validation_result_identifier = checkpoint_result.list_validation_result_identifiers()[0]\n",
    "context.open_data_docs(resource_identifier=validation_result_identifier)\n"
   ]
  },
  {
   "cell_type": "code",
   "execution_count": null,
   "id": "ccde169e",
   "metadata": {},
   "outputs": [],
   "source": []
  }
 ],
 "metadata": {
  "kernelspec": {
   "display_name": "Python 3 (ipykernel)",
   "language": "python",
   "name": "python3"
  },
  "language_info": {
   "codemirror_mode": {
    "name": "ipython",
    "version": 3
   },
   "file_extension": ".py",
   "mimetype": "text/x-python",
   "name": "python",
   "nbconvert_exporter": "python",
   "pygments_lexer": "ipython3",
   "version": "3.11.2"
  }
 },
 "nbformat": 4,
 "nbformat_minor": 5
}
